{
  "nbformat": 4,
  "nbformat_minor": 0,
  "metadata": {
    "kernelspec": {
      "name": "python3",
      "display_name": "Python 3"
    },
    "language_info": {
      "codemirror_mode": {
        "name": "ipython",
        "version": 3
      },
      "file_extension": ".py",
      "mimetype": "text/x-python",
      "name": "python",
      "nbconvert_exporter": "python",
      "pygments_lexer": "ipython3",
      "version": "3.6.6"
    },
    "colab": {
      "name": "EVA_S11_ASSIG.ipynb",
      "provenance": [],
      "collapsed_sections": [],
      "include_colab_link": true
    },
    "accelerator": "GPU"
  },
  "cells": [
    {
      "cell_type": "markdown",
      "metadata": {
        "id": "view-in-github",
        "colab_type": "text"
      },
      "source": [
        "<a href=\"https://colab.research.google.com/github/Madhusudhanbandi/EVA-S11/blob/master/EVA_S11_ASSIG.ipynb\" target=\"_parent\"><img src=\"https://colab.research.google.com/assets/colab-badge.svg\" alt=\"Open In Colab\"/></a>"
      ]
    },
    {
      "cell_type": "code",
      "metadata": {
        "id": "qnNlF2wX8-np",
        "colab_type": "code",
        "outputId": "04478193-aab4-4701-c0a1-397b41536735",
        "colab": {
          "base_uri": "https://localhost:8080/",
          "height": 34
        }
      },
      "source": [
        "from google.colab import drive\n",
        "drive.mount('/content/drive')\n",
        "import sys\n",
        "sys.path.append('/content/drive/My Drive')"
      ],
      "execution_count": 1,
      "outputs": [
        {
          "output_type": "stream",
          "text": [
            "Drive already mounted at /content/drive; to attempt to forcibly remount, call drive.mount(\"/content/drive\", force_remount=True).\n"
          ],
          "name": "stdout"
        }
      ]
    },
    {
      "cell_type": "code",
      "metadata": {
        "id": "E0EFQvwX9CTp",
        "colab_type": "code",
        "outputId": "8ff8af97-2cbf-4b54-89fa-bfcdba8ec8fc",
        "colab": {
          "base_uri": "https://localhost:8080/",
          "height": 34
        }
      },
      "source": [
        "%cd '/content/drive/My Drive/Colab Notebooks'"
      ],
      "execution_count": 2,
      "outputs": [
        {
          "output_type": "stream",
          "text": [
            "/content/drive/My Drive/Colab Notebooks\n"
          ],
          "name": "stdout"
        }
      ]
    },
    {
      "cell_type": "code",
      "metadata": {
        "id": "-yVpodAMpoCi",
        "colab_type": "code",
        "colab": {}
      },
      "source": [
        "from __future__ import print_function\n",
        "import torch\n",
        "import torch.nn as nn\n",
        "import torch.nn.functional as F\n",
        "import torch.optim as optim\n",
        "from torchvision import datasets,transforms\n",
        "import torchvision\n",
        "from torchsummary import summary\n",
        "from myfunctions import *\n",
        "from models import *\n",
        "from Grad_Cam import get_last_conv,Grad_Cam\n",
        "from transforms_dataloading import *\n",
        "from tqdm import tqdm\n",
        "\n",
        "from albumentations import  ( \n",
        "    HorizontalFlip, IAAPerspective, ShiftScaleRotate, CLAHE, RandomRotate90, PadIfNeeded ,Rotate,\n",
        "    Transpose, ShiftScaleRotate, Blur, OpticalDistortion, GridDistortion, HueSaturationValue,\n",
        "    IAAAdditiveGaussianNoise, GaussNoise, MotionBlur, MedianBlur, IAAPiecewiseAffine, RandomCrop,\n",
        "    IAASharpen, IAAEmboss, RandomBrightnessContrast, Flip, OneOf, Compose , Normalize ,ToFloat, Cutout\n",
        ")\n",
        "\n",
        "import cv2\n",
        "\n",
        "import numpy as np\n",
        "\n",
        "from albumentations.pytorch import  ToTensor \n",
        " "
      ],
      "execution_count": 0,
      "outputs": []
    },
    {
      "cell_type": "markdown",
      "metadata": {
        "id": "fUeRUA14FQZH",
        "colab_type": "text"
      },
      "source": [
        "**Downloading datasets and applying transforms**"
      ]
    },
    {
      "cell_type": "code",
      "metadata": {
        "id": "zzZb_bSdpSbs",
        "colab_type": "code",
        "outputId": "152d5471-b4ac-451a-88e7-cd321b22a5de",
        "colab": {
          "base_uri": "https://localhost:8080/",
          "height": 85
        }
      },
      "source": [
        "trainset,testset =downloading_data_transforms_albumentations_v1(\n",
        "            #pass dataset\n",
        "            datasets.CIFAR10,\n",
        "\n",
        "            # train transforms                                               \n",
        "            Compose([\n",
        "            PadIfNeeded(min_height=40,min_width=40,border_mode=4) ,\n",
        "            Flip(),\n",
        "            RandomCrop(height=32,width=32),\n",
        "            Cutout(num_holes=8, max_h_size=8, max_w_size=8),\n",
        "            Normalize( mean=[0.4914, 0.4822, 0.4465], std=[0.2471, 0.2435, 0.2616],),\n",
        "            ToTensor()\n",
        "            ]),\n",
        "\n",
        "            # test transforms\n",
        "            Compose([\n",
        "            Normalize(mean=[0.4914, 0.4822, 0.4465],std=[0.2471, 0.2435, 0.2616],),\n",
        "            ToTensor()\n",
        "            ])\n",
        "            )"
      ],
      "execution_count": 4,
      "outputs": [
        {
          "output_type": "stream",
          "text": [
            "Files already downloaded and verified\n",
            "Files already downloaded and verified\n",
            "No.of images in train set are 50000\n",
            "No.of images in test set are 10000\n"
          ],
          "name": "stdout"
        }
      ]
    },
    {
      "cell_type": "markdown",
      "metadata": {
        "id": "-G0S-xaK-jgB",
        "colab_type": "text"
      },
      "source": [
        "**Loading data to train and test loader**"
      ]
    },
    {
      "cell_type": "code",
      "metadata": {
        "id": "x9hZuC-P5vXq",
        "colab_type": "code",
        "outputId": "cc88af30-f390-49d0-c5de-ec3451723018",
        "colab": {
          "base_uri": "https://localhost:8080/",
          "height": 51
        }
      },
      "source": [
        "trainloader,testloader=loading_to_train_test_loader(1,trainset,testset,512)\n"
      ],
      "execution_count": 5,
      "outputs": [
        {
          "output_type": "stream",
          "text": [
            "CUDA Available? True\n",
            "Train and Test data loaded.......\n"
          ],
          "name": "stdout"
        }
      ]
    },
    {
      "cell_type": "markdown",
      "metadata": {
        "id": "D91rZDSq-sXC",
        "colab_type": "text"
      },
      "source": [
        "**Building model network**"
      ]
    },
    {
      "cell_type": "code",
      "metadata": {
        "id": "h9bSclQ_OS05",
        "colab_type": "code",
        "outputId": "83b82cdf-1231-41f4-b990-982a7f4fc946",
        "colab": {
          "base_uri": "https://localhost:8080/",
          "height": 34
        }
      },
      "source": [
        "Net= own_resnet_model()"
      ],
      "execution_count": 6,
      "outputs": [
        {
          "output_type": "stream",
          "text": [
            "Model was build as per given architucture....\n"
          ],
          "name": "stdout"
        }
      ]
    },
    {
      "cell_type": "markdown",
      "metadata": {
        "id": "AHe6tv8x-0iD",
        "colab_type": "text"
      },
      "source": [
        "**Adding model to device**"
      ]
    },
    {
      "cell_type": "code",
      "metadata": {
        "id": "IVZyS9ODHENM",
        "colab_type": "code",
        "outputId": "a3accf95-aae4-4377-c05e-df892e52c309",
        "colab": {
          "base_uri": "https://localhost:8080/",
          "height": 765
        }
      },
      "source": [
        "from torchsummary import summary\n",
        "use_cuda = torch.cuda.is_available()\n",
        "device = torch.device(\"cuda\" if use_cuda else \"cpu\")\n",
        "print(device)\n",
        "model = Net().to(device)\n",
        "summary(model,input_size=(3,32,32))\n",
        "print(\"Model added to device\")"
      ],
      "execution_count": 7,
      "outputs": [
        {
          "output_type": "stream",
          "text": [
            "cuda\n",
            "----------------------------------------------------------------\n",
            "        Layer (type)               Output Shape         Param #\n",
            "================================================================\n",
            "            Conv2d-1           [-1, 64, 32, 32]           1,728\n",
            "       BatchNorm2d-2           [-1, 64, 32, 32]             128\n",
            "              ReLU-3           [-1, 64, 32, 32]               0\n",
            "            Conv2d-4          [-1, 128, 32, 32]          73,728\n",
            "         MaxPool2d-5          [-1, 128, 16, 16]               0\n",
            "       BatchNorm2d-6          [-1, 128, 16, 16]             256\n",
            "              ReLU-7          [-1, 128, 16, 16]               0\n",
            "            Conv2d-8          [-1, 128, 16, 16]         147,456\n",
            "       BatchNorm2d-9          [-1, 128, 16, 16]             256\n",
            "             ReLU-10          [-1, 128, 16, 16]               0\n",
            "           Conv2d-11          [-1, 128, 16, 16]         147,456\n",
            "      BatchNorm2d-12          [-1, 128, 16, 16]             256\n",
            "             ReLU-13          [-1, 128, 16, 16]               0\n",
            "           Conv2d-14          [-1, 256, 16, 16]         589,824\n",
            "        MaxPool2d-15            [-1, 256, 8, 8]               0\n",
            "      BatchNorm2d-16            [-1, 256, 8, 8]             512\n",
            "             ReLU-17            [-1, 256, 8, 8]               0\n",
            "           Conv2d-18            [-1, 512, 8, 8]       1,179,648\n",
            "        MaxPool2d-19            [-1, 512, 4, 4]               0\n",
            "      BatchNorm2d-20            [-1, 512, 4, 4]           1,024\n",
            "             ReLU-21            [-1, 512, 4, 4]               0\n",
            "           Conv2d-22            [-1, 512, 4, 4]       2,359,296\n",
            "      BatchNorm2d-23            [-1, 512, 4, 4]           1,024\n",
            "             ReLU-24            [-1, 512, 4, 4]               0\n",
            "           Conv2d-25            [-1, 512, 4, 4]       2,359,296\n",
            "      BatchNorm2d-26            [-1, 512, 4, 4]           1,024\n",
            "             ReLU-27            [-1, 512, 4, 4]               0\n",
            "        MaxPool2d-28           [-1, 1024, 1, 1]               0\n",
            "           Linear-29                   [-1, 10]          10,250\n",
            "================================================================\n",
            "Total params: 6,873,162\n",
            "Trainable params: 6,873,162\n",
            "Non-trainable params: 0\n",
            "----------------------------------------------------------------\n",
            "Input size (MB): 0.01\n",
            "Forward/backward pass size (MB): 6.45\n",
            "Params size (MB): 26.22\n",
            "Estimated Total Size (MB): 32.68\n",
            "----------------------------------------------------------------\n",
            "Model added to device\n"
          ],
          "name": "stdout"
        }
      ]
    },
    {
      "cell_type": "markdown",
      "metadata": {
        "id": "4A1-wJdLYFqh",
        "colab_type": "text"
      },
      "source": [
        "**LR Range test**"
      ]
    },
    {
      "cell_type": "code",
      "metadata": {
        "id": "hwA4abYMpaJE",
        "colab_type": "code",
        "outputId": "caa1d157-1076-41dd-cef7-bebf939c190a",
        "colab": {
          "base_uri": "https://localhost:8080/",
          "height": 867
        }
      },
      "source": [
        "import torch.optim as optim\n",
        "train_los=[]\n",
        "train_acs=[]\n",
        "test_los=[]\n",
        "test_acs=[]\n",
        "lr_data=[]\n",
        "\n",
        "L2lambda=0\n",
        "lr=0.01\n",
        "criterion = nn.CrossEntropyLoss()\n",
        "optimizer = optim.SGD(model.parameters(), lr=lr, momentum=0.9,nesterov=True, weight_decay=L2lambda)\n",
        "\n",
        "EPOCHS = 10\n",
        "for epoch in range(EPOCHS):\n",
        "    print(\"EPOCH:\", epoch)\n",
        "    \n",
        "    train_losses,train_acces,lr=training_model_with_linear_incremental_lr(epoch,model, device, trainloader, optimizer,criterion)\n",
        "    lr_data.append(lr)\n",
        "    train_acs.append(train_acces)\n"
      ],
      "execution_count": 8,
      "outputs": [
        {
          "output_type": "stream",
          "text": [
            "EPOCH: 0\n",
            "LR used in this epoch 0.01\n",
            "\n",
            "Train set: Average loss: 0.7647, Train Accuracy: (24.79%)\n",
            "\n",
            "EPOCH: 1\n",
            "LR used in this epoch 0.02\n",
            "\n",
            "Train set: Average loss: 0.6915, Train Accuracy: (31.38%)\n",
            "\n",
            "EPOCH: 2\n",
            "LR used in this epoch 0.03\n",
            "\n",
            "Train set: Average loss: 0.7141, Train Accuracy: (34.49%)\n",
            "\n",
            "EPOCH: 3\n",
            "LR used in this epoch 0.04\n",
            "\n",
            "Train set: Average loss: 0.7374, Train Accuracy: (35.53%)\n",
            "\n",
            "EPOCH: 4\n",
            "LR used in this epoch 0.05\n",
            "\n",
            "Train set: Average loss: 0.6768, Train Accuracy: (39.08%)\n",
            "\n",
            "EPOCH: 5\n",
            "LR used in this epoch 0.06\n",
            "\n",
            "Train set: Average loss: 0.7631, Train Accuracy: (38.42%)\n",
            "\n",
            "EPOCH: 6\n",
            "LR used in this epoch 0.07\n",
            "\n",
            "Train set: Average loss: 0.6744, Train Accuracy: (43.00%)\n",
            "\n",
            "EPOCH: 7\n",
            "LR used in this epoch 0.08\n",
            "\n",
            "Train set: Average loss: 0.8175, Train Accuracy: (38.43%)\n",
            "\n",
            "EPOCH: 8\n",
            "LR used in this epoch 0.09\n",
            "\n",
            "Train set: Average loss: 0.7973, Train Accuracy: (40.93%)\n",
            "\n",
            "EPOCH: 9\n",
            "LR used in this epoch 0.1\n",
            "\n",
            "Train set: Average loss: 0.6835, Train Accuracy: (44.65%)\n",
            "\n"
          ],
          "name": "stdout"
        }
      ]
    },
    {
      "cell_type": "code",
      "metadata": {
        "id": "vYvUR-hUaZf4",
        "colab_type": "code",
        "colab": {
          "base_uri": "https://localhost:8080/",
          "height": 325
        },
        "outputId": "82ab1f14-4e16-44e7-9362-a0538a2a6bdd"
      },
      "source": [
        "\n",
        "import pandas as pd\n",
        "lr_datadf=pd.DataFrame(lr_data,columns=['LR'])\n",
        "acsdf=pd.DataFrame(train_acs,columns=['ACC'])\n",
        "\n",
        "%matplotlib inline\n",
        "import matplotlib.pyplot as plt\n",
        "\n",
        "plt.plot(lr_datadf['LR'],acsdf['ACC'],color='blue')\n",
        "plt.suptitle('LR vs Acc ',fontsize=20)\n",
        "plt.xlabel('Learning rate')\n",
        "plt.ylabel('Accuracy')\n"
      ],
      "execution_count": 9,
      "outputs": [
        {
          "output_type": "execute_result",
          "data": {
            "text/plain": [
              "Text(0, 0.5, 'Accuracy')"
            ]
          },
          "metadata": {
            "tags": []
          },
          "execution_count": 9
        },
        {
          "output_type": "display_data",
          "data": {
            "image/png": "[encoded data removed]",
            "text/plain": [
              "<Figure size 432x288 with 1 Axes>"
            ]
          },
          "metadata": {
            "tags": [],
            "needs_background": "light"
          }
        }
      ]
    },
    {
      "cell_type": "markdown",
      "metadata": {
        "id": "DYvX-Enq_LLj",
        "colab_type": "text"
      },
      "source": [
        "**Traing network with SGD and OneCycleLR schedular**"
      ]
    },
    {
      "cell_type": "code",
      "metadata": {
        "id": "qbiOYNznwC0-",
        "colab_type": "code",
        "outputId": "b7826cb4-2256-425b-d812-c28eb7880b14",
        "colab": {
          "base_uri": "https://localhost:8080/",
          "height": 1000
        }
      },
      "source": [
        "import torch.optim as optim\n",
        "from torch.optim.lr_scheduler import OneCycleLR\n",
        "\n",
        "\n",
        "train_los=[]\n",
        "train_acs=[]\n",
        "test_los=[]\n",
        "test_acs=[]\n",
        "lr_data=[]\n",
        "\n",
        "L2lambda=0\n",
        "ep=len(trainloader)\n",
        "criterion = nn.CrossEntropyLoss()\n",
        "optimizer = optim.SGD(model.parameters(), lr=0.01, momentum=0.9,nesterov=True, weight_decay=L2lambda)\n",
        "scheduler = optim.lr_scheduler.OneCycleLR(optimizer, max_lr=0.1, epochs=24,steps_per_epoch=ep,pct_start=0.2)\n",
        "  \n",
        "\n",
        "EPOCHS = 24\n",
        "for epoch in range(EPOCHS):\n",
        "    print(\"EPOCH:\", epoch+1)\n",
        "    train_losses,train_acces=training_model_with_scheduler(model, device, trainloader, optimizer,scheduler,criterion)\n",
        "    train_acs.append(train_acces)\n",
        "    test_losses, test_acces=testing_model(model, device, testloader)\n",
        "    test_acs.append(test_acces)"
      ],
      "execution_count": 8,
      "outputs": [
        {
          "output_type": "stream",
          "text": [
            "EPOCH: 1\n",
            "LR used in this epoch is: 0.013764751199348696\n",
            "\n",
            "Train set: Average loss: 0.5909, Train Accuracy: (31.73%)\n",
            "\n",
            "\n",
            "Test set: Average Loss: 0.1799, Test Accuracy: 4005/10000 (40.05%)\n",
            "\n",
            "EPOCH: 2\n",
            "LR used in this epoch is: 0.03939576846136664\n",
            "\n",
            "Train set: Average loss: 0.5121, Train Accuracy: (43.58%)\n",
            "\n",
            "\n",
            "Test set: Average Loss: 0.1145, Test Accuracy: 5259/10000 (52.59%)\n",
            "\n",
            "EPOCH: 3\n",
            "LR used in this epoch is: 0.07025744715202284\n",
            "\n",
            "Train set: Average loss: 0.5560, Train Accuracy: (45.72%)\n",
            "\n",
            "\n",
            "Test set: Average Loss: 0.1623, Test Accuracy: 4747/10000 (47.47%)\n",
            "\n",
            "EPOCH: 4\n",
            "LR used in this epoch is: 0.09354242239108235\n",
            "\n",
            "Train set: Average loss: 0.4139, Train Accuracy: (54.92%)\n",
            "\n",
            "\n",
            "Test set: Average Loss: 0.0727, Test Accuracy: 6560/10000 (65.60%)\n",
            "\n",
            "EPOCH: 5\n",
            "LR used in this epoch is: 0.09997322948090079\n",
            "\n",
            "Train set: Average loss: 0.3238, Train Accuracy: (61.80%)\n",
            "\n",
            "\n",
            "Test set: Average Loss: 0.0840, Test Accuracy: 6171/10000 (61.71%)\n",
            "\n",
            "EPOCH: 6\n",
            "LR used in this epoch is: 0.09903926786310545\n",
            "\n",
            "Train set: Average loss: 0.2815, Train Accuracy: (65.90%)\n",
            "\n",
            "\n",
            "Test set: Average Loss: 0.0647, Test Accuracy: 6997/10000 (69.97%)\n",
            "\n",
            "EPOCH: 7\n",
            "LR used in this epoch is: 0.09679530915668094\n",
            "\n",
            "Train set: Average loss: 0.2542, Train Accuracy: (69.13%)\n",
            "\n",
            "\n",
            "Test set: Average Loss: 0.0567, Test Accuracy: 7262/10000 (72.62%)\n",
            "\n",
            "EPOCH: 8\n",
            "LR used in this epoch is: 0.09330129698414119\n",
            "\n",
            "Train set: Average loss: 0.2354, Train Accuracy: (71.49%)\n",
            "\n",
            "\n",
            "Test set: Average Loss: 0.0455, Test Accuracy: 7890/10000 (78.90%)\n",
            "\n",
            "EPOCH: 9\n",
            "LR used in this epoch is: 0.08865056806604618\n",
            "\n",
            "Train set: Average loss: 0.2168, Train Accuracy: (73.72%)\n",
            "\n",
            "\n",
            "Test set: Average Loss: 0.0467, Test Accuracy: 7733/10000 (77.33%)\n",
            "\n",
            "EPOCH: 10\n",
            "LR used in this epoch is: 0.08296735888584042\n",
            "\n",
            "Train set: Average loss: 0.2062, Train Accuracy: (74.91%)\n",
            "\n",
            "\n",
            "Test set: Average Loss: 0.0475, Test Accuracy: 7855/10000 (78.55%)\n",
            "\n",
            "EPOCH: 11\n",
            "LR used in this epoch is: 0.07640348691894827\n",
            "\n",
            "Train set: Average loss: 0.1900, Train Accuracy: (77.25%)\n",
            "\n",
            "\n",
            "Test set: Average Loss: 0.0418, Test Accuracy: 8148/10000 (81.48%)\n",
            "\n",
            "EPOCH: 12\n",
            "LR used in this epoch is: 0.06913429508156803\n",
            "\n",
            "Train set: Average loss: 0.1806, Train Accuracy: (78.18%)\n",
            "\n",
            "\n",
            "Test set: Average Loss: 0.0371, Test Accuracy: 8252/10000 (82.52%)\n",
            "\n",
            "EPOCH: 13\n",
            "LR used in this epoch is: 0.06135396773646606\n",
            "\n",
            "Train set: Average loss: 0.1709, Train Accuracy: (79.34%)\n",
            "\n",
            "\n",
            "Test set: Average Loss: 0.0318, Test Accuracy: 8529/10000 (85.29%)\n",
            "\n",
            "EPOCH: 14\n",
            "LR used in this epoch is: 0.053270343380881324\n",
            "\n",
            "Train set: Average loss: 0.1589, Train Accuracy: (80.94%)\n",
            "\n",
            "\n",
            "Test set: Average Loss: 0.0386, Test Accuracy: 8222/10000 (82.22%)\n",
            "\n",
            "EPOCH: 15\n",
            "LR used in this epoch is: 0.045099362586950034\n",
            "\n",
            "Train set: Average loss: 0.1523, Train Accuracy: (81.60%)\n",
            "\n",
            "\n",
            "Test set: Average Loss: 0.0326, Test Accuracy: 8525/10000 (85.25%)\n",
            "\n",
            "EPOCH: 16\n",
            "LR used in this epoch is: 0.037059299508683\n",
            "\n",
            "Train set: Average loss: 0.1437, Train Accuracy: (82.63%)\n",
            "\n",
            "\n",
            "Test set: Average Loss: 0.0295, Test Accuracy: 8643/10000 (86.43%)\n",
            "\n",
            "EPOCH: 17\n",
            "LR used in this epoch is: 0.029364931051186233\n",
            "\n",
            "Train set: Average loss: 0.1373, Train Accuracy: (83.25%)\n",
            "\n",
            "\n",
            "Test set: Average Loss: 0.0278, Test Accuracy: 8749/10000 (87.49%)\n",
            "\n",
            "EPOCH: 18\n",
            "LR used in this epoch is: 0.02222179946306651\n",
            "\n",
            "Train set: Average loss: 0.1284, Train Accuracy: (84.59%)\n",
            "\n",
            "\n",
            "Test set: Average Loss: 0.0277, Test Accuracy: 8746/10000 (87.46%)\n",
            "\n",
            "EPOCH: 19\n",
            "LR used in this epoch is: 0.01582072161731684\n",
            "\n",
            "Train set: Average loss: 0.1214, Train Accuracy: (85.35%)\n",
            "\n",
            "\n",
            "Test set: Average Loss: 0.0256, Test Accuracy: 8828/10000 (88.28%)\n",
            "\n",
            "EPOCH: 20\n",
            "LR used in this epoch is: 0.010332691656106306\n",
            "\n",
            "Train set: Average loss: 0.1139, Train Accuracy: (86.21%)\n",
            "\n",
            "\n",
            "Test set: Average Loss: 0.0252, Test Accuracy: 8840/10000 (88.40%)\n",
            "\n",
            "EPOCH: 21\n",
            "LR used in this epoch is: 0.005904313166835123\n",
            "\n",
            "Train set: Average loss: 0.1074, Train Accuracy: (87.22%)\n",
            "\n",
            "\n",
            "Test set: Average Loss: 0.0241, Test Accuracy: 8907/10000 (89.07%)\n",
            "\n",
            "EPOCH: 22\n",
            "LR used in this epoch is: 0.0026538829112706204\n",
            "\n",
            "Train set: Average loss: 0.1011, Train Accuracy: (87.80%)\n",
            "\n",
            "\n",
            "Test set: Average Loss: 0.0242, Test Accuracy: 8906/10000 (89.06%)\n",
            "\n",
            "EPOCH: 23\n",
            "LR used in this epoch is: 0.0006682307244224682\n",
            "\n",
            "Train set: Average loss: 0.0975, Train Accuracy: (88.25%)\n",
            "\n",
            "\n",
            "Test set: Average Loss: 0.0231, Test Accuracy: 8954/10000 (89.54%)\n",
            "\n",
            "EPOCH: 24\n",
            "LR used in this epoch is: 4e-07\n",
            "\n",
            "Train set: Average loss: 0.0945, Train Accuracy: (88.69%)\n",
            "\n",
            "\n",
            "Test set: Average Loss: 0.0230, Test Accuracy: 8952/10000 (89.52%)\n",
            "\n"
          ],
          "name": "stdout"
        }
      ]
    },
    {
      "cell_type": "markdown",
      "metadata": {
        "id": "Lhmo_ShGLV3r",
        "colab_type": "text"
      },
      "source": [
        "**Cyclic LR -Triangular plot**"
      ]
    },
    {
      "cell_type": "code",
      "metadata": {
        "id": "0m9zPn47ODK4",
        "colab_type": "code",
        "outputId": "1b55351d-0ef0-46f4-98f9-225f87f45621",
        "colab": {
          "base_uri": "https://localhost:8080/",
          "height": 1000
        }
      },
      "source": [
        "import math \n",
        "\n",
        "epos=[0]\n",
        "lr_min=0.01\n",
        "lr_max=0.1\n",
        "lrplt=[0.01]\n",
        "stepsize=4\n",
        "iters=len(trainloader)\n",
        "\n",
        "EPOCHS = 24\n",
        "for epoch in range(EPOCHS):\n",
        "    print(\"EPOCH:\", epoch+1)\n",
        "    epos.append(epoch+1)\n",
        "    cycle=math.floor(1+(iters*(epoch+1))/(2*(stepsize*iters)))\n",
        "    x= abs(((iters*(epoch+1))/(stepsize*iters))-(2*cycle)+1)\n",
        "    lrs=lr_min +(lr_max -lr_min)*(1-x)\n",
        "    print(\"Learning rate is:\",lrs)\n",
        "    lrplt.append(lrs)\n",
        "\n",
        "import pandas as pd\n",
        "epochdf=pd.DataFrame(epos,columns=['Epoch'])\n",
        "lrpltdf=pd.DataFrame(lrplt,columns=['LR'])\n",
        "\n",
        "%matplotlib inline\n",
        "import matplotlib.pyplot as plt\n",
        "\n",
        "plt.plot(epochdf['Epoch'],lrpltdf['LR'],color='blue')\n",
        "plt.xlim([0,24])\n",
        "plt.xticks(np.arange(0, 24, step=4))\n",
        "plt.axhline(y=0.01, color='r', linestyle='-')\n",
        "plt.axhline(y=0.1, color='r', linestyle='-')\n"
      ],
      "execution_count": 9,
      "outputs": [
        {
          "output_type": "stream",
          "text": [
            "EPOCH: 1\n",
            "Learning rate is: 0.0325\n",
            "EPOCH: 2\n",
            "Learning rate is: 0.05500000000000001\n",
            "EPOCH: 3\n",
            "Learning rate is: 0.0775\n",
            "EPOCH: 4\n",
            "Learning rate is: 0.1\n",
            "EPOCH: 5\n",
            "Learning rate is: 0.0775\n",
            "EPOCH: 6\n",
            "Learning rate is: 0.05500000000000001\n",
            "EPOCH: 7\n",
            "Learning rate is: 0.0325\n",
            "EPOCH: 8\n",
            "Learning rate is: 0.01\n",
            "EPOCH: 9\n",
            "Learning rate is: 0.0325\n",
            "EPOCH: 10\n",
            "Learning rate is: 0.05500000000000001\n",
            "EPOCH: 11\n",
            "Learning rate is: 0.0775\n",
            "EPOCH: 12\n",
            "Learning rate is: 0.1\n",
            "EPOCH: 13\n",
            "Learning rate is: 0.0775\n",
            "EPOCH: 14\n",
            "Learning rate is: 0.05500000000000001\n",
            "EPOCH: 15\n",
            "Learning rate is: 0.0325\n",
            "EPOCH: 16\n",
            "Learning rate is: 0.01\n",
            "EPOCH: 17\n",
            "Learning rate is: 0.0325\n",
            "EPOCH: 18\n",
            "Learning rate is: 0.05500000000000001\n",
            "EPOCH: 19\n",
            "Learning rate is: 0.0775\n",
            "EPOCH: 20\n",
            "Learning rate is: 0.1\n",
            "EPOCH: 21\n",
            "Learning rate is: 0.0775\n",
            "EPOCH: 22\n",
            "Learning rate is: 0.05500000000000001\n",
            "EPOCH: 23\n",
            "Learning rate is: 0.0325\n",
            "EPOCH: 24\n",
            "Learning rate is: 0.01\n"
          ],
          "name": "stdout"
        },
        {
          "output_type": "execute_result",
          "data": {
            "text/plain": [
              "<matplotlib.lines.Line2D at 0x7f7fb50ce2b0>"
            ]
          },
          "metadata": {
            "tags": []
          },
          "execution_count": 9
        },
        {
          "output_type": "display_data",
          "data": {
            "image/png": "[encoded data removed]",
            "text/plain": [
              "<Figure size 432x288 with 1 Axes>"
            ]
          },
          "metadata": {
            "tags": [],
            "needs_background": "light"
          }
        }
      ]
    }
  ]
}